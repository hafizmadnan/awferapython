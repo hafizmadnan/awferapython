{
 "cells": [
  {
   "cell_type": "markdown",
   "metadata": {},
   "source": [
    "## define functions\n",
    "Function is a block of code that performs a specific task. It is a reusable piece of code that can be called multiple times. Functions are used to break down large programs into smaller, manageable pieces. They are also used to make the code more organized and easier to understand.\n",
    "\n",
    "## TYPES OF FUNCTIONS\n",
    "1. Built-in Functions\n",
    "2. User-defined Functions\n",
    "\n",
    "## BUILT-IN FUNCTIONS\n",
    "Built-in functions are the functions that are already defined in Python. These functions are available for use in Python without the need to define them. Some of the built-in functions in Python are:\n",
    "1. print()\n",
    "2. input()\n",
    "3. len()\n",
    "4. range()\n",
    "5. sum()\n",
    "6. max()\n",
    "7. min()\n",
    "8. abs()\n",
    "9. round()\n",
    "10. sorted()\n",
    "11. reversed()\n",
    "12. zip()\n",
    "13. enumerate()\n",
    "14. map()\n",
    "15. filter()\n",
    "16. eval()\n",
    "17. int()\n",
    "18. float()\n",
    "19. str()\n",
    "20. list()\n",
    "21. tuple()\n",
    "22. dict()\n",
    "23. set()\n",
    "24. bool()\n",
    "25. type()\n",
    "26. id()\n",
    "27. help()\n",
    "28. dir()\n",
    "29. locals()\n",
    "30. globals()\n",
    "31. open()\n",
    "32. close()\n",
    "33. read()\n",
    "34. write()\n",
    "35. seek()\n",
    "36. flush()\n",
    "37. split()\n",
    "38. join()\n",
    "39. replace()\n",
    "40. strip()    etc.\n",
    "    \n",
    "## USER-DEFINED FUNCTIONS\n",
    "User-defined functions are the functions that are defined by the user. These functions are created by the user to perform a specific task. User-defined functions are defined using the def keyword followed by the function name and parentheses. The code block of the function is defined using indentation. The syntax of defining a user-defined function is:\n",
    "```\n",
    "def function_name(parameters):\n",
    "    code block\n",
    "``` "
   ]
  },
  {
   "cell_type": "code",
   "execution_count": 7,
   "metadata": {},
   "outputs": [
    {
     "name": "stdout",
     "output_type": "stream",
     "text": [
      "hello adnan\n"
     ]
    }
   ],
   "source": [
    "# The print( ) fuction use for display something in the output form.\n",
    "\n",
    "print(\"hello adnan\")"
   ]
  },
  {
   "cell_type": "code",
   "execution_count": null,
   "metadata": {},
   "outputs": [
    {
     "name": "stdout",
     "output_type": "stream",
     "text": [
      "hello Adnan\n"
     ]
    }
   ],
   "source": [
    "# The input() function take input during run time and then display.\n",
    "\n",
    "name = input(\"Enter Your Name\")\n",
    "print(\"hello\",name)"
   ]
  },
  {
   "cell_type": "code",
   "execution_count": null,
   "metadata": {},
   "outputs": [
    {
     "name": "stdout",
     "output_type": "stream",
     "text": [
      "The no is given:  <class 'int'>\n"
     ]
    }
   ],
   "source": [
    "# The type() fucntion return the type of funciton.\n",
    "\n",
    "num = 11\n",
    "print(\"The no is given: \" ,type(num))"
   ]
  },
  {
   "cell_type": "code",
   "execution_count": null,
   "metadata": {},
   "outputs": [
    {
     "name": "stdout",
     "output_type": "stream",
     "text": [
      "TELL ME THE LENGTH 5\n"
     ]
    }
   ],
   "source": [
    "# This len() function explain the length of fucntion.\n",
    "name = \"Adnan\"\n",
    "print(\"TELL ME THE LENGTH\" , len(name))"
   ]
  },
  {
   "cell_type": "code",
   "execution_count": 12,
   "metadata": {},
   "outputs": [
    {
     "name": "stdout",
     "output_type": "stream",
     "text": [
      "The highest no is given: 56\n"
     ]
    }
   ],
   "source": [
    "# The max() funciton return the maximum item in the list.\n",
    "\n",
    "item = [ 12,34,54,56]\n",
    "highest_item = max(item)\n",
    "print('The highest no is given:', highest_item)"
   ]
  },
  {
   "cell_type": "code",
   "execution_count": 14,
   "metadata": {},
   "outputs": [
    {
     "name": "stdout",
     "output_type": "stream",
     "text": [
      "The sorted rating is:  [1.3, 3.1, 3.2, 4.1]\n"
     ]
    }
   ],
   "source": [
    "# The sorted() fucntion sorted the item in the list\n",
    "\n",
    "rating = [ 3.1, 3.2 , 1.3, 4.1]\n",
    "high_rating = sorted(rating)\n",
    "print(\"The sorted rating is: \", high_rating)"
   ]
  },
  {
   "cell_type": "code",
   "execution_count": 15,
   "metadata": {},
   "outputs": [
    {
     "name": "stdout",
     "output_type": "stream",
     "text": [
      "Dish 1 is ready\n",
      "Dish 2 is ready\n",
      "Dish 3 is ready\n",
      "Dish 4 is ready\n",
      "Dish 5 is ready\n"
     ]
    }
   ],
   "source": [
    "# Generate a sequence of numbers.\n",
    "\n",
    "for i in range(5):\n",
    "    print(\"Dish\" , i+1, \"is ready\")"
   ]
  },
  {
   "cell_type": "code",
   "execution_count": 16,
   "metadata": {},
   "outputs": [
    {
     "name": "stdout",
     "output_type": "stream",
     "text": [
      " The memory address of the x is  2660667360080\n"
     ]
    }
   ],
   "source": [
    "# Returns the memory address of the object\n",
    "\n",
    "x = 20\n",
    "print(\" The memory address of the x is \", id(x))"
   ]
  },
  {
   "cell_type": "code",
   "execution_count": 17,
   "metadata": {},
   "outputs": [
    {
     "name": "stdout",
     "output_type": "stream",
     "text": [
      "The expression is given:  11\n"
     ]
    }
   ],
   "source": [
    "# Evalute \n",
    "\n",
    "expression = \"2*3 +5\"\n",
    "result = eval(expression)\n",
    "print(\"The expression is given: \" , result)"
   ]
  },
  {
   "cell_type": "code",
   "execution_count": null,
   "metadata": {},
   "outputs": [],
   "source": []
  }
 ],
 "metadata": {
  "kernelspec": {
   "display_name": "awfera",
   "language": "python",
   "name": "python3"
  },
  "language_info": {
   "codemirror_mode": {
    "name": "ipython",
    "version": 3
   },
   "file_extension": ".py",
   "mimetype": "text/x-python",
   "name": "python",
   "nbconvert_exporter": "python",
   "pygments_lexer": "ipython3",
   "version": "3.10.16"
  }
 },
 "nbformat": 4,
 "nbformat_minor": 2
}
