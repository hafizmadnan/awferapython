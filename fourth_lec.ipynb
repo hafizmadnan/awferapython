{
 "cells": [
  {
   "cell_type": "markdown",
   "metadata": {},
   "source": [
    "# 1. FOR Loops\n",
    "\n",
    "* The for loop in python is used to iterate over a sequence (list, tuple, string) or other iterable objects.It process each item in the sequence one at a time.\n",
    "* The for loop is used to execute a block of code multiple times.\n",
    "\n",
    "### Syntax:\n",
    "```python\n",
    "for val in sequence:\n",
    "    # body of for loop\n",
    "```"
   ]
  },
  {
   "cell_type": "code",
   "execution_count": 1,
   "metadata": {},
   "outputs": [
    {
     "name": "stdout",
     "output_type": "stream",
     "text": [
      "22\n",
      "34\n",
      "5\n",
      "6\n",
      "7\n",
      "7\n"
     ]
    }
   ],
   "source": [
    "# Example: Iterating a number of list.\n",
    "numbers = [22,34,5,6,7,7]\n",
    "for num in numbers:\n",
    "    print(num)"
   ]
  },
  {
   "cell_type": "markdown",
   "metadata": {},
   "source": [
    "#### Using enumerate() function with for loop.\n",
    ">>This is used if we want to get both index and item in loop."
   ]
  },
  {
   "cell_type": "code",
   "execution_count": 2,
   "metadata": {},
   "outputs": [
    {
     "name": "stdout",
     "output_type": "stream",
     "text": [
      "index 0:Apple\n",
      "index 1:Orange\n",
      "index 2:Bannana\n"
     ]
    }
   ],
   "source": [
    "fruits = ['Apple','Orange','Bannana']\n",
    "for index, fruits in enumerate(fruits):\n",
    "    print(f\"index {index}:{fruits}\")"
   ]
  },
  {
   "cell_type": "code",
   "execution_count": 5,
   "metadata": {},
   "outputs": [
    {
     "name": "stdout",
     "output_type": "stream",
     "text": [
      "index 0:Apple\n",
      "index 1:Bannana\n",
      "index 2:Orange\n"
     ]
    }
   ],
   "source": [
    "# using get index and item without enumerate\n",
    "\n",
    "fruits = [\"Apple\",'Bannana','Orange']\n",
    "\n",
    "index = 0\n",
    "\n",
    "for fruit in fruits:\n",
    "    print(f\"index {index}:{fruit}\")\n",
    "    index += 1"
   ]
  },
  {
   "cell_type": "markdown",
   "metadata": {},
   "source": [
    "## Iterating over dictionaries\n",
    "\n",
    "Dictionnaries are key value pairs. You can iterate over.\n",
    " \n",
    " KEYS:By default , looping over dictionary retruns its key.\\\n",
    " VALUES:Using .values()\\\n",
    " kEY_VALUE_PAIRS:Using .items()"
   ]
  },
  {
   "cell_type": "code",
   "execution_count": 7,
   "metadata": {},
   "outputs": [
    {
     "name": "stdout",
     "output_type": "stream",
     "text": [
      "Iterating Over KEY\n",
      "Name:  Adnan\n",
      "Age:  20\n",
      "Country:  Pakistan\n"
     ]
    }
   ],
   "source": [
    "person ={\n",
    "    \"Name\" : \"Adnan\",\n",
    "    \"Age\"  : 20,\n",
    "    \"Country\": \"Pakistan\"\n",
    "}\n",
    "print(\"Iterating Over KEY\")\n",
    "for key in person:\n",
    "    print(f\"{key}:  {person[key]}\")\n"
   ]
  },
  {
   "cell_type": "code",
   "execution_count": 9,
   "metadata": {},
   "outputs": [
    {
     "name": "stdout",
     "output_type": "stream",
     "text": [
      "Iterating over key vlue pairs\n",
      "Name:Adnan\n",
      "Age:20\n",
      "Country:Pakistan\n"
     ]
    }
   ],
   "source": [
    "# iteratitng over key value pairs using items\n",
    "print(\"Iterating over key vlue pairs\")\n",
    "for key , value in person.items():\n",
    "    print(f\"{key}:{value}\")"
   ]
  },
  {
   "cell_type": "code",
   "execution_count": null,
   "metadata": {},
   "outputs": [],
   "source": []
  }
 ],
 "metadata": {
  "kernelspec": {
   "display_name": "awfera",
   "language": "python",
   "name": "python3"
  },
  "language_info": {
   "codemirror_mode": {
    "name": "ipython",
    "version": 3
   },
   "file_extension": ".py",
   "mimetype": "text/x-python",
   "name": "python",
   "nbconvert_exporter": "python",
   "pygments_lexer": "ipython3",
   "version": "3.10.16"
  }
 },
 "nbformat": 4,
 "nbformat_minor": 2
}
