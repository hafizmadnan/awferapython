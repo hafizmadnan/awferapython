{
 "cells": [
  {
   "cell_type": "markdown",
   "metadata": {},
   "source": [
    "# Function?\n",
    "A __function__ is a reusable block of code designed to perform a specific task.\n",
    "> Functionns help __reduce repetition__ and make code __organized__.\n",
    "\n",
    "> They can take input and return output."
   ]
  },
  {
   "cell_type": "markdown",
   "metadata": {},
   "source": [
    "## key components of function defination\n",
    "1. **def** -> keyword to define a function\n",
    "2. **function_name** -> A unique name for idenitifying the function\n",
    "3. **parameters** -> A value passed to the function for processing.\n",
    "4. : **colon** -> Marks the end of the function header\n",
    "5. **Function body** -> Calculates the logic that the function executed.\n",
    "6. **docstring** -> Used to describe what the function does.\n",
    "7. **return** -> Used to return a value from the function."
   ]
  },
  {
   "cell_type": "code",
   "execution_count": 2,
   "metadata": {},
   "outputs": [
    {
     "name": "stdout",
     "output_type": "stream",
     "text": [
      "The Number 1 is: 2\n",
      "The Number 2 is: 5\n",
      "The result is: 7\n"
     ]
    }
   ],
   "source": [
    "# Define the function *name* and that takes two numbers as a parameter.\n",
    "def add(num1 , num2):\n",
    "    \"\"\"\"This is a funciton take two numbers and return the sum\"\"\"\n",
    "    print(\"The Number 1 is:\", num1)\n",
    "    print(\"The Number 2 is:\", num2)\n",
    "    addition = num1 + num2\n",
    "    return addition\n",
    "\n",
    "res = add(2,5)\n",
    "print(\"The result is:\",res)"
   ]
  },
  {
   "cell_type": "markdown",
   "metadata": {},
   "source": [
    "Functions can be declared without parameters\n"
   ]
  },
  {
   "cell_type": "code",
   "execution_count": 4,
   "metadata": {},
   "outputs": [
    {
     "name": "stdout",
     "output_type": "stream",
     "text": [
      "Welcome to the pyhton for Artificial Intelligence course\n"
     ]
    }
   ],
   "source": [
    "def greet():\n",
    "    print(\"Welcome to the pyhton for Artificial Intelligence course\")\n",
    "    \n",
    "greet()"
   ]
  },
  {
   "cell_type": "markdown",
   "metadata": {},
   "source": [
    "# Function Arguments and Return Statement\n",
    "\n",
    ">Funciton arguments allow us to __pass vlues__ into the function.\n",
    "\n",
    "> making it more flexible and reusable.\n",
    "\n",
    "> There are four types of function arguments in Python:\n",
    "\n",
    "> 1. Default Arguments\n",
    "> \n",
    "> 2. Keyword Arguments\n",
    "> \n",
    "> 3. Required Arguments\n",
    "> \n",
    ">4. Variable-length Arguments"
   ]
  },
  {
   "cell_type": "code",
   "execution_count": 9,
   "metadata": {},
   "outputs": [
    {
     "name": "stdout",
     "output_type": "stream",
     "text": [
      "Hello Hafiz Muhammad Adnan\n"
     ]
    }
   ],
   "source": [
    "# function with a default middle name.\n",
    "def name(flname, midname=\"Muhammad\", lstname = \"Adnan\"):\n",
    "    print(\"Hello\", flname,midname,lstname)\n",
    "    \n",
    "name(\"Hafiz\")"
   ]
  },
  {
   "cell_type": "code",
   "execution_count": 11,
   "metadata": {},
   "outputs": [
    {
     "name": "stdout",
     "output_type": "stream",
     "text": [
      "Hello Hafiz Muhammad Adnan\n"
     ]
    }
   ],
   "source": [
    "# function with a keyword argument:\n",
    "\n",
    "def name(flname , midname , lstname):\n",
    "    print(\"Hello\", flname, midname, lstname)\n",
    "    \n",
    "name(flname=\"Hafiz\", lstname=\"Adnan\", midname=\"Muhammad\")"
   ]
  },
  {
   "cell_type": "code",
   "execution_count": 13,
   "metadata": {},
   "outputs": [
    {
     "name": "stdout",
     "output_type": "stream",
     "text": [
      "Hello Hafiz Muhammad Adnan\n"
     ]
    }
   ],
   "source": [
    "# function with a *arg (Tuple of arguments) argument:\n",
    "\n",
    "def name(*names):\n",
    "    print(\"Hello\", names[0], names[1], names[2])\n",
    "    \n",
    "name(\"Hafiz\" ,\"Muhammad\" , \"Adnan\")"
   ]
  },
  {
   "cell_type": "code",
   "execution_count": 15,
   "metadata": {},
   "outputs": [
    {
     "name": "stdout",
     "output_type": "stream",
     "text": [
      "Hello,  Hafiz Muhammad Adnan\n"
     ]
    }
   ],
   "source": [
    "# function returning a full name\n",
    "\n",
    "def name(fname, midname, lastname):\n",
    "    return \"Hello,  \" + fname + \" \" + midname + \" \" + lastname\n",
    "print(name(\"Hafiz\" , \"Muhammad\", \"Adnan\"))"
   ]
  },
  {
   "cell_type": "code",
   "execution_count": null,
   "metadata": {},
   "outputs": [],
   "source": []
  }
 ],
 "metadata": {
  "kernelspec": {
   "display_name": "awfera",
   "language": "python",
   "name": "python3"
  },
  "language_info": {
   "codemirror_mode": {
    "name": "ipython",
    "version": 3
   },
   "file_extension": ".py",
   "mimetype": "text/x-python",
   "name": "python",
   "nbconvert_exporter": "python",
   "pygments_lexer": "ipython3",
   "version": "3.10.16"
  }
 },
 "nbformat": 4,
 "nbformat_minor": 2
}
