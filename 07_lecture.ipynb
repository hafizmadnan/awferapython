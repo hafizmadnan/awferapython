{
 "cells": [
  {
   "cell_type": "markdown",
   "metadata": {},
   "source": [
    "# Conditional Statement in Python"
   ]
  },
  {
   "cell_type": "markdown",
   "metadata": {},
   "source": [
    ">> # Topic Covered"
   ]
  },
  {
   "cell_type": "markdown",
   "metadata": {},
   "source": [
    "1. #### Understanding Conditionas In Python ##### why we need conditions?\n",
    "2. ### Real World Analogy - #### Explaining Conditions using relateable analogy.\n",
    "3. ### Conditional Statemtns in Python - #### If, If-Else, If-Elif-Else, \n",
    "4. ### Nested Conditions - #### Handling multiple level of decisions\n",
    "5. ### Practice Exercises - #### Practice problems to understand the concept better."
   ]
  },
  {
   "cell_type": "markdown",
   "metadata": {},
   "source": [
    "# Why Do We Need Conditons in Programming?\n",
    "\n",
    "In real life we make decisions based on certion conditions.\n",
    "\n",
    "1. If it is raining, I will take an umbrella.\n",
    "2. If I am hungry, I will eat.\n",
    "3. If I am sleepy, I will sleep.\n",
    "\n",
    "Similarly, in programming we need to make decisions based on certain conditions. This is where conditional statements come into play."
   ]
  },
  {
   "cell_type": "markdown",
   "metadata": {},
   "source": [
    "# Real World Analogy\n",
    "\n",
    "imagine you are driving a car and reach a traffic singnal.\n",
    "\n",
    "1. If the signal is red, you will stop.\n",
    "2. If the signal is green, you will go.\n",
    "3. If the signal is yellow, you will slow down.\n",
    "\n",
    "just like trafic singnal , __control movements based on condition__ Programming condition how to code execute.\n"
   ]
  },
  {
   "cell_type": "markdown",
   "metadata": {},
   "source": [
    "**Important Note:** __How if-elif-else conditions evalutes.__\n",
    "\n",
    "- If a condition is true , python execute that block and skip the rest of the blocks.\n",
    "- If a condition is false, the __else__ block will be executed.\n",
    "- __Only one condition is executed__ in an __if-elif-else__ block.\n"
   ]
  },
  {
   "cell_type": "code",
   "execution_count": 1,
   "metadata": {},
   "outputs": [
    {
     "name": "stdout",
     "output_type": "stream",
     "text": [
      "You can go\n"
     ]
    }
   ],
   "source": [
    "# \n",
    "traffic_light = 'Green'\n",
    "if traffic_light == 'Green':\n",
    "    print(\"You can go\")"
   ]
  },
  {
   "cell_type": "code",
   "execution_count": 3,
   "metadata": {},
   "outputs": [
    {
     "name": "stdout",
     "output_type": "stream",
     "text": [
      "You can stop\n"
     ]
    }
   ],
   "source": [
    "traffic_light = 'Red'\n",
    "if traffic_light == 'Green':\n",
    "    print(\"You Can Go\")\n",
    "else:\n",
    "    print(\"You can stop\")"
   ]
  },
  {
   "cell_type": "code",
   "execution_count": null,
   "metadata": {},
   "outputs": [
    {
     "name": "stdout",
     "output_type": "stream",
     "text": [
      "Slow Down and Prepare to stop\n"
     ]
    }
   ],
   "source": [
    "traffic_light = 'Yellow'\n",
    "\n",
    "if traffic_light == 'Green':\n",
    "    print('you can go')\n",
    "elif traffic_light == 'Red':\n",
    "    print(\"You Can stop\")\n",
    "else:\n",
    "    print(\"Slow Down and Prepare to stop\")"
   ]
  },
  {
   "cell_type": "markdown",
   "metadata": {},
   "source": [
    ">>"
   ]
  },
  {
   "cell_type": "markdown",
   "metadata": {},
   "source": [
    "# Using Logical Statements with __IF__ Condition"
   ]
  },
  {
   "cell_type": "markdown",
   "metadata": {},
   "source": [
    "Logical operators are used to combine conditional statements.\n",
    "\n",
    "1. __and__ - Returns True if both statements are true\n",
    "2. __or__ - Returns True if one of the statements is true\n",
    "3. __not__ - Reverse the result, returns False if the result is true\n",
    "4. "
   ]
  },
  {
   "cell_type": "code",
   "execution_count": 5,
   "metadata": {},
   "outputs": [
    {
     "name": "stdout",
     "output_type": "stream",
     "text": [
      "You Should wait\n"
     ]
    }
   ],
   "source": [
    "pedestrian = 'Flashing'\n",
    "\n",
    "if pedestrian == 'walk' and pedestrian != 'Flashing':\n",
    "    print(\"You can croos safely\")\n",
    "else:\n",
    "    print(\"You Should wait\")"
   ]
  },
  {
   "cell_type": "code",
   "execution_count": 6,
   "metadata": {},
   "outputs": [
    {
     "name": "stdout",
     "output_type": "stream",
     "text": [
      "You can go\n"
     ]
    }
   ],
   "source": [
    "traffic_light = 'Red'\n",
    "\n",
    "vehicle = 'Ambulance'\n",
    "\n",
    "if traffic_light == 'Green' or vehicle == 'Ambulance':\n",
    "    print(\"You can go\")\n",
    "else:\n",
    "    print(\"You Must Stop\")"
   ]
  },
  {
   "cell_type": "code",
   "execution_count": 7,
   "metadata": {},
   "outputs": [
    {
     "name": "stdout",
     "output_type": "stream",
     "text": [
      "Do not cross\n"
     ]
    }
   ],
   "source": [
    "pedestrian_signal = \"Don't walk\"\n",
    "\n",
    "if not pedestrian_signal == 'walk':\n",
    "    print(\"Do not cross\")\n",
    "else:\n",
    "    print(\"Yu can cross\")"
   ]
  },
  {
   "cell_type": "markdown",
   "metadata": {},
   "source": [
    "# Nested Conditions"
   ]
  },
  {
   "cell_type": "code",
   "execution_count": 13,
   "metadata": {},
   "outputs": [
    {
     "name": "stdout",
     "output_type": "stream",
     "text": [
      "You can safely drive the car\n"
     ]
    }
   ],
   "source": [
    "speed_car = 60\n",
    "\n",
    "seatbelt = True\n",
    "\n",
    "if speed_car >= 60:\n",
    "    if seatbelt:\n",
    "        print(\"You can safely drive the car\")\n",
    "    else:\n",
    "        print(\"Warnings be carefull one condtions is not follow\")\n",
    "else:\n",
    "     print(\"Slow down . You cross the limit\")"
   ]
  },
  {
   "cell_type": "code",
   "execution_count": 14,
   "metadata": {},
   "outputs": [
    {
     "name": "stdout",
     "output_type": "stream",
     "text": [
      "You can cross the road\n"
     ]
    }
   ],
   "source": [
    "traffic_light = 'Green'\n",
    "road_clear = True\n",
    "\n",
    "if traffic_light == 'Green':\n",
    "    if road_clear:\n",
    "        print(\"You can cross the road\")\n",
    "    else:\n",
    "        print(\"wait road is not clear\")\n",
    "elif traffic_light == 'Yellow':\n",
    "    print(\"Prepare to stop\")\n",
    "else:\n",
    "    print(\"You must stop\")"
   ]
  },
  {
   "cell_type": "code",
   "execution_count": null,
   "metadata": {},
   "outputs": [],
   "source": []
  }
 ],
 "metadata": {
  "kernelspec": {
   "display_name": "awfera",
   "language": "python",
   "name": "python3"
  },
  "language_info": {
   "codemirror_mode": {
    "name": "ipython",
    "version": 3
   },
   "file_extension": ".py",
   "mimetype": "text/x-python",
   "name": "python",
   "nbconvert_exporter": "python",
   "pygments_lexer": "ipython3",
   "version": "3.10.16"
  }
 },
 "nbformat": 4,
 "nbformat_minor": 2
}
