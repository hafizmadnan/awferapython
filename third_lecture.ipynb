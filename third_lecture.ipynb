{
 "cells": [
  {
   "cell_type": "markdown",
   "metadata": {},
   "source": [
    "# Operators In Python"
   ]
  },
  {
   "cell_type": "markdown",
   "metadata": {},
   "source": [
    "### 1. Assignment Operators\n",
    "\n",
    "> Assignment operators are used to assign values to variables. Like that, there are many assignment operators in Python. They are as follows:\n",
    "=, +=, -=, *=, /=, %=, //=, **=, &=, |=, ^=, >>=, <<=\n"
   ]
  },
  {
   "cell_type": "code",
   "execution_count": null,
   "metadata": {},
   "outputs": [
    {
     "name": "stdout",
     "output_type": "stream",
     "text": [
      "The value of a is 15\n"
     ]
    }
   ],
   "source": [
    "a = 10\n",
    "a += 5  # a = a + 5\n",
    "print('The value of a is', a)\n"
   ]
  },
  {
   "cell_type": "markdown",
   "metadata": {},
   "source": [
    "## 2. Arithmetic Operators\n",
    "\n",
    "> Arithmetic operators are used to perform mathematical operations on variables. Like that, there are many arithmetic operators in Python. They are as follows:\n",
    "+, -, *, /, %, //, **"
   ]
  },
  {
   "cell_type": "code",
   "execution_count": 5,
   "metadata": {},
   "outputs": [
    {
     "name": "stdout",
     "output_type": "stream",
     "text": [
      "Addition of a and b is: 40\n",
      "Subtraction of a and b is: -20\n",
      "Multiplication of a and b is: 300\n",
      "Division of a and b is: 0.3333333333333333\n",
      "Modulus of a and b is: 10\n",
      "Exponentiation of a and b is:  1000000000000000000000000000000\n",
      "Floor Division of a and b is: 0\n"
     ]
    }
   ],
   "source": [
    "a = 10\n",
    "b = 30\n",
    "\n",
    "print('Addition of a and b is:', a + b)\n",
    "print('Subtraction of a and b is:',a - b)\n",
    "print('Multiplication of a and b is:', a * b)\n",
    "print('Division of a and b is:', a / b)\n",
    "print('Modulus of a and b is:', a % b)\n",
    "print('Exponentiation of a and b is: ', a ** b) \n",
    "print('Floor Division of a and b is:', a // b)  ## We use floor division if we want ot get values without flooting point..\n",
    "\n"
   ]
  },
  {
   "cell_type": "markdown",
   "metadata": {},
   "source": [
    "# 3. Comparison Operators \n",
    " > comparison operators compare the values and return __True__ or __False__\n",
    " "
   ]
  },
  {
   "cell_type": "code",
   "execution_count": 6,
   "metadata": {},
   "outputs": [
    {
     "name": "stdout",
     "output_type": "stream",
     "text": [
      "x > y: True\n",
      "x < y: False\n",
      "x >= y: True\n",
      "x <= y: False\n",
      "x != y: True\n",
      "x == y: False\n"
     ]
    }
   ],
   "source": [
    "x = 12\n",
    "y = 5\n",
    "print('x > y:', x > y)\n",
    "print('x < y:', x < y)\n",
    "print('x >= y:', x >= y)\n",
    "print('x <= y:', x <= y)\n",
    "print('x != y:', x != y)\n",
    "print('x == y:', x == y )\n",
    "\n"
   ]
  },
  {
   "cell_type": "markdown",
   "metadata": {},
   "source": [
    "# 4.Logical Operators "
   ]
  },
  {
   "cell_type": "markdown",
   "metadata": {},
   "source": [
    "1. __and__ : Returns True if both statements are true\n",
    "2. **or**  : Returns True if one of the statements is true\n",
    "3. **not** : Reverse the result, returns False if the result is true"
   ]
  },
  {
   "cell_type": "code",
   "execution_count": 8,
   "metadata": {},
   "outputs": [
    {
     "name": "stdout",
     "output_type": "stream",
     "text": [
      "a and b: False\n",
      "a or b: True\n",
      "not b: True\n"
     ]
    }
   ],
   "source": [
    "# logical operator\n",
    "a = True\n",
    "b = False\n",
    "print('a and b:', a and b)\n",
    "print('a or b:', a or b)\n",
    "print('not b:', not b)"
   ]
  },
  {
   "cell_type": "markdown",
   "metadata": {},
   "source": []
  },
  {
   "cell_type": "markdown",
   "metadata": {},
   "source": []
  }
 ],
 "metadata": {
  "kernelspec": {
   "display_name": "awfera",
   "language": "python",
   "name": "python3"
  },
  "language_info": {
   "codemirror_mode": {
    "name": "ipython",
    "version": 3
   },
   "file_extension": ".py",
   "mimetype": "text/x-python",
   "name": "python",
   "nbconvert_exporter": "python",
   "pygments_lexer": "ipython3",
   "version": "3.10.16"
  }
 },
 "nbformat": 4,
 "nbformat_minor": 2
}
