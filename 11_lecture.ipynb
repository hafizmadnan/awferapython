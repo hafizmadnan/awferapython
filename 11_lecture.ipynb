{
 "cells": [
  {
   "cell_type": "markdown",
   "id": "d631d91a",
   "metadata": {},
   "source": [
    "# 1. Higher-Order Functions\n",
    "\n",
    "- In Python, functions that take other functions as arguments or return functions as outputs are called higher-order functions.\n",
    "\n",
    "###  COMMON HIGHER-ORDER FUNCTIONS\n",
    "- `map()`: Applies a function to all items in an iterable (like a list) and returns a map object (which is an iterator).\n",
    "- `filter()`: Filters items out of an iterable based on a function that returns True or False.\n",
    "- `reduce()`: Applies a rolling computation to sequential pairs of values in an iterable. It is available in the `functools` module.\n",
    "- `zip()`: Combines two or more iterables into a single iterable of tuples.\n",
    "- `enumerate()`: Adds a counter to an iterable and returns it as an enumerate object.\n",
    "\n"
   ]
  },
  {
   "cell_type": "markdown",
   "id": "08186dd6",
   "metadata": {},
   "source": [
    "# 2. UNDERSTANDING MAP() FUNCTIONS\n",
    "- The `map()` function applies a given function to all items in an iterable (like a list) and returns a map object (which is an iterator).\n",
    "- The syntax is `map(function, iterable)`, where `function` is the function to apply and `iterable` is the iterable to process."
   ]
  },
  {
   "cell_type": "code",
   "execution_count": 2,
   "id": "d65a913e",
   "metadata": {},
   "outputs": [
    {
     "name": "stdout",
     "output_type": "stream",
     "text": [
      "[2, 4, 6, 8, 10]\n"
     ]
    }
   ],
   "source": [
    "#Function to a double number\n",
    "def double(x):\n",
    "    return x * 2\n",
    "\n",
    "# using map to a double in a list\n",
    "numbers = [1,2,3,4,5]\n",
    "doubled = list(map(double,numbers))\n",
    "print(doubled)"
   ]
  },
  {
   "cell_type": "markdown",
   "id": "541cbedc",
   "metadata": {},
   "source": [
    "# 2. Filter () Function\n",
    "The filter function filters elements in an iterable based on a condition defined by a function. It only returns elements that satisfy the condition.\n"
   ]
  },
  {
   "cell_type": "code",
   "execution_count": null,
   "id": "4a3350f0",
   "metadata": {},
   "outputs": [
    {
     "name": "stdout",
     "output_type": "stream",
     "text": [
      "[2, 4, 6]\n"
     ]
    }
   ],
   "source": [
    "def is_even(x):\n",
    "    return x % 2 == 0\n",
    "\n",
    "numbers = [1, 2, 3, 4, 5, 6]\n",
    "\n",
    "even_numbers = list(filter(is_even, numbers))\n",
    "\n",
    "print(even_numbers)\n",
    "\n",
    " "
   ]
  },
  {
   "cell_type": "markdown",
   "id": "39e85f47",
   "metadata": {},
   "source": [
    "# 3. Reduce Function\n",
    "The reduce function takes a function and an iterable, and applies the function cumulatively to the items in the iterable, returning a single output.\n",
    "\n",
    "To use reduce, it must be imported from the functools module."
   ]
  },
  {
   "cell_type": "code",
   "execution_count": 5,
   "id": "c43ebc75",
   "metadata": {},
   "outputs": [
    {
     "name": "stdout",
     "output_type": "stream",
     "text": [
      "120\n"
     ]
    }
   ],
   "source": [
    "from functools import reduce\n",
    "def multiply(x, y):\n",
    "    return x * y\n",
    "\n",
    "numbers = [1, 2, 3, 4, 5]\n",
    "\n",
    "result = reduce(multiply, numbers)\n",
    "\n",
    "print(result)"
   ]
  },
  {
   "cell_type": "markdown",
   "id": "587753f7",
   "metadata": {},
   "source": [
    "# 4. Zip Function\n",
    "The zip function combines two or more iterables into tuples, pairing elements from each iterable in the corresponding order."
   ]
  },
  {
   "cell_type": "code",
   "execution_count": 6,
   "id": "f6736a22",
   "metadata": {},
   "outputs": [
    {
     "name": "stdout",
     "output_type": "stream",
     "text": [
      "[('Alice', 25), ('Bob', 30), ('Charlie', 35)]\n"
     ]
    }
   ],
   "source": [
    "\n",
    "names = ['Alice', 'Bob', 'Charlie']\n",
    "\n",
    "ages = [25, 30, 35]\n",
    "\n",
    "zipped = list(zip(names, ages))\n",
    "\n",
    "print(zipped)\n",
    "\n",
    " "
   ]
  },
  {
   "cell_type": "markdown",
   "id": "861fec0e",
   "metadata": {},
   "source": [
    "# 5. Enumerate Function\n",
    "The enumerate function adds an index to each item in an iterable. It is useful when you need to track the index of items in a loop."
   ]
  },
  {
   "cell_type": "code",
   "execution_count": 7,
   "id": "2a00e0d1",
   "metadata": {},
   "outputs": [
    {
     "name": "stdout",
     "output_type": "stream",
     "text": [
      "1. apple\n",
      "2. banana\n",
      "3. cherry\n"
     ]
    }
   ],
   "source": [
    "fruits = ['apple', 'banana', 'cherry']\n",
    "\n",
    "for index, fruit in enumerate(fruits, start=1):\n",
    "\n",
    "    print(f\"{index}. {fruit}\")"
   ]
  },
  {
   "cell_type": "markdown",
   "id": "9653f319",
   "metadata": {},
   "source": [
    "### Best Practices\n",
    "- `Map and Filter`: Use map and filter functions for simple operations. However, consider using list comprehensions for better readability.\n",
    "- `Reduce`: Only use reduce when absolutely necessary. In most cases, loops can be a more readable and efficient alternative.\n",
    "- `Zip`: Use zip when you need to pair items from multiple iterables into tuples.\n",
    "- `Enumerate`: Use enumerate when you need to manipulate or track the index of items in an iterable.\n",
    "\n",
    " "
   ]
  },
  {
   "cell_type": "code",
   "execution_count": null,
   "id": "e5266305",
   "metadata": {},
   "outputs": [],
   "source": []
  }
 ],
 "metadata": {
  "kernelspec": {
   "display_name": "awfera",
   "language": "python",
   "name": "python3"
  },
  "language_info": {
   "codemirror_mode": {
    "name": "ipython",
    "version": 3
   },
   "file_extension": ".py",
   "mimetype": "text/x-python",
   "name": "python",
   "nbconvert_exporter": "python",
   "pygments_lexer": "ipython3",
   "version": "3.10.16"
  }
 },
 "nbformat": 4,
 "nbformat_minor": 5
}
