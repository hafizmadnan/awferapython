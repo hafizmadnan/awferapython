{
 "cells": [
  {
   "cell_type": "markdown",
   "metadata": {},
   "source": [
    "# Integer Number\n"
   ]
  },
  {
   "cell_type": "code",
   "execution_count": 1,
   "metadata": {},
   "outputs": [
    {
     "name": "stdout",
     "output_type": "stream",
     "text": [
      "a  =  22 <class 'int'>\n",
      "b  = 24 <class 'int'>\n",
      "c  = 0 <class 'int'>\n"
     ]
    }
   ],
   "source": [
    "a = 22\n",
    "b = 24\n",
    "c = 0\n",
    "\n",
    "print(\"a  = \", a , type(a))\n",
    "print(\"b  =\", b,type(b))\n",
    "print(\"c  =\",c,type(c))"
   ]
  },
  {
   "cell_type": "markdown",
   "metadata": {},
   "source": [
    "# Float Number\n"
   ]
  },
  {
   "cell_type": "code",
   "execution_count": 2,
   "metadata": {},
   "outputs": [
    {
     "name": "stdout",
     "output_type": "stream",
     "text": [
      "a  =  22.0 <class 'float'>\n",
      "b  = 24.0 <class 'float'>\n",
      "c  = 0.0 <class 'float'>\n"
     ]
    }
   ],
   "source": [
    "a = 22.0\n",
    "b = 24.0\n",
    "c = 0.0\n",
    "\n",
    "print(\"a  = \", a , type(a))\n",
    "print(\"b  =\", b,type(b))\n",
    "print(\"c  =\",c,type(c))"
   ]
  },
  {
   "cell_type": "markdown",
   "metadata": {},
   "source": [
    "# String"
   ]
  },
  {
   "cell_type": "code",
   "execution_count": 3,
   "metadata": {},
   "outputs": [
    {
     "name": "stdout",
     "output_type": "stream",
     "text": [
      "name  =   Awfera   <class 'str'>\n",
      "institute  = Xeven Solution <class 'str'>\n"
     ]
    }
   ],
   "source": [
    "name = \" Awfera  \"\n",
    "institute = \"Xeven Solution\"\n",
    "print(\"name  = \", name , type(name))\n",
    "print(\"institute  =\", institute,type(institute))"
   ]
  },
  {
   "cell_type": "code",
   "execution_count": 5,
   "metadata": {},
   "outputs": [
    {
     "name": "stdout",
     "output_type": "stream",
     "text": [
      "Adnan Khan\n"
     ]
    }
   ],
   "source": [
    "# Concatenation\n",
    "first_name = \"Adnan\"\n",
    "last_name = \"Khan\"\n",
    "full_name = first_name + \" \" + last_name\n",
    "print(full_name)"
   ]
  },
  {
   "cell_type": "code",
   "execution_count": 6,
   "metadata": {},
   "outputs": [
    {
     "name": "stdout",
     "output_type": "stream",
     "text": [
      "hahahahaha\n"
     ]
    }
   ],
   "source": [
    "#Repetation\n",
    "a = \"ha\"\n",
    "print(a* 5)"
   ]
  },
  {
   "cell_type": "code",
   "execution_count": 8,
   "metadata": {},
   "outputs": [
    {
     "name": "stdout",
     "output_type": "stream",
     "text": [
      "A\n",
      "w\n",
      "Awf\n"
     ]
    }
   ],
   "source": [
    "# slicing and indexing\n",
    "name = \"Awfera\"\n",
    "print(name[0])\n",
    "print(name[1])\n",
    "print(name[0:3])"
   ]
  },
  {
   "cell_type": "code",
   "execution_count": 9,
   "metadata": {},
   "outputs": [
    {
     "name": "stdout",
     "output_type": "stream",
     "text": [
      "Hello Adnan\n"
     ]
    }
   ],
   "source": [
    "#f string\n",
    "name = \"Adnan\"\n",
    "print(f\"Hello {name}\")"
   ]
  },
  {
   "cell_type": "code",
   "execution_count": 10,
   "metadata": {},
   "outputs": [
    {
     "name": "stdout",
     "output_type": "stream",
     "text": [
      "True\n",
      "False\n"
     ]
    }
   ],
   "source": [
    "# Boolean\n",
    "a = True\n",
    "b = False\n",
    "print(a)\n",
    "print(b)"
   ]
  },
  {
   "cell_type": "code",
   "execution_count": 11,
   "metadata": {},
   "outputs": [
    {
     "name": "stdout",
     "output_type": "stream",
     "text": [
      "None\n"
     ]
    }
   ],
   "source": [
    "# None\n",
    "a = None\n",
    "print(a)\n"
   ]
  },
  {
   "cell_type": "code",
   "execution_count": 12,
   "metadata": {},
   "outputs": [
    {
     "name": "stdout",
     "output_type": "stream",
     "text": [
      "[1, 2, 3, 4, 5]\n",
      "<class 'list'>\n",
      "1\n",
      "5\n"
     ]
    }
   ],
   "source": [
    "#lIST\n",
    "a = [1,2,3,4,5]\n",
    "print(a)\n",
    "print(type(a))\n",
    "print(a[0])\n",
    "print(a[-1])"
   ]
  },
  {
   "cell_type": "code",
   "execution_count": 13,
   "metadata": {},
   "outputs": [
    {
     "name": "stdout",
     "output_type": "stream",
     "text": [
      "('Adnan', 'Khan')\n"
     ]
    }
   ],
   "source": [
    "# TUPLE\n",
    "name = (\"Adnan\",\"Khan\")\n",
    "print(name)"
   ]
  },
  {
   "cell_type": "markdown",
   "metadata": {},
   "source": [
    "- it is immutable . once we create a string object we can't modify it."
   ]
  },
  {
   "cell_type": "code",
   "execution_count": 14,
   "metadata": {},
   "outputs": [
    {
     "name": "stdout",
     "output_type": "stream",
     "text": [
      "{'name': 'Adnan', 'age': 22}\n",
      "Adnan\n",
      "22\n"
     ]
    }
   ],
   "source": [
    "# Dictionary\n",
    "person = {\"name\":\"Adnan\",\"age\":22}\n",
    "print(person)\n",
    "print(person[\"name\"])\n",
    "print(person[\"age\"])"
   ]
  },
  {
   "cell_type": "code",
   "execution_count": 15,
   "metadata": {},
   "outputs": [
    {
     "name": "stdout",
     "output_type": "stream",
     "text": [
      "(1, 2, 3, 4, 5, 6, 7, 8, 9, 10)\n"
     ]
    }
   ],
   "source": [
    "# set\n",
    "a = (1,2,3,4,5,6,7,8,9,10)\n",
    "print(a)"
   ]
  },
  {
   "cell_type": "code",
   "execution_count": null,
   "metadata": {},
   "outputs": [],
   "source": []
  }
 ],
 "metadata": {
  "kernelspec": {
   "display_name": "awfera",
   "language": "python",
   "name": "python3"
  },
  "language_info": {
   "codemirror_mode": {
    "name": "ipython",
    "version": 3
   },
   "file_extension": ".py",
   "mimetype": "text/x-python",
   "name": "python",
   "nbconvert_exporter": "python",
   "pygments_lexer": "ipython3",
   "version": "3.10.16"
  }
 },
 "nbformat": 4,
 "nbformat_minor": 2
}
