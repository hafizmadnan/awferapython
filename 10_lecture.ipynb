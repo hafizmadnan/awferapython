{
 "cells": [
  {
   "cell_type": "code",
   "execution_count": 3,
   "metadata": {},
   "outputs": [
    {
     "name": "stdout",
     "output_type": "stream",
     "text": [
      "inside function: x = 15, y = 5\n",
      "outside the function: x = 15\n"
     ]
    }
   ],
   "source": [
    "x = 15 # global variable\n",
    "\n",
    "def my_function():\n",
    "    y = 5\n",
    "    print(f'inside function: x = {x}, y = {y}')\n",
    "    \n",
    "my_function()\n",
    "print(f'outside the function: x = {x}')\n",
    "# print(f'inside the function: y ={y}')   # we cant access outside the function.\n",
    "    "
   ]
  },
  {
   "cell_type": "markdown",
   "metadata": {},
   "source": [
    "# 2. How python handle variable scope?\n",
    "Python follows the __LEGB__ (__Local, Enclosing, Global, Built-in__) rule to determine the vairable scope.\n",
    "1. **Local**: Variable declared inside the funciton.\n",
    "2. **Enclosing**: Variable declared in the enclosing function.\n",
    "3. **Global**: Variable declared at the top level of the script or module.\n",
    "4. **Built-in**: Variable that is pre-defined in the built-in scope of Python.\n",
    "\n",
    "EXAMPLES are given below:"
   ]
  },
  {
   "cell_type": "code",
   "execution_count": 10,
   "metadata": {},
   "outputs": [
    {
     "name": "stdout",
     "output_type": "stream",
     "text": [
      "inside the function: local\n",
      "inside outer function: enclosing\n",
      "outside all the function: global\n"
     ]
    }
   ],
   "source": [
    "x = 'global' # global variable\n",
    "\n",
    "def outer_function():\n",
    "    x = 'enclosing'  #ecnlosing function\n",
    "    def inner_function():\n",
    "        x = 'local'    # local variable\n",
    "        print('inside the function:' , x)  # print local variable\n",
    "    inner_function()\n",
    "    print('inside outer function:', x )   # print enclosing variable\n",
    "    \n",
    "outer_function()\n",
    "print('outside all the function:' , x)  # print gloabl variable"
   ]
  },
  {
   "cell_type": "markdown",
   "metadata": {},
   "source": [
    "# 3. Modify Global Variable in Function\n"
   ]
  },
  {
   "cell_type": "code",
   "execution_count": 11,
   "metadata": {},
   "outputs": [
    {
     "name": "stdout",
     "output_type": "stream",
     "text": [
      "updated counter: 1\n"
     ]
    }
   ],
   "source": [
    "counter = 0\n",
    "\n",
    "def increment():\n",
    "    global counter \n",
    "    counter += 1\n",
    "increment()\n",
    "print('updated counter:', counter)"
   ]
  },
  {
   "cell_type": "markdown",
   "metadata": {},
   "source": [
    "# 4. Best Practices for using global variable and local variable"
   ]
  },
  {
   "cell_type": "markdown",
   "metadata": {},
   "source": [
    "1. Prefer __local variable__ whenever possible to __avoid unintended side effects__\n",
    "2. Minimize the use of **global** variables to keep code modular and maintainable.\n",
    "3. Use **function arguments** to pass values instead of relying on global state.\n"
   ]
  },
  {
   "cell_type": "markdown",
   "metadata": {},
   "source": [
    "# 5. Understanding is (Identify Comparison)"
   ]
  },
  {
   "cell_type": "markdown",
   "metadata": {},
   "source": [
    "The is operat **check if two variables refer to the same object in the memory.\n"
   ]
  },
  {
   "cell_type": "code",
   "execution_count": 12,
   "metadata": {},
   "outputs": [
    {
     "name": "stdout",
     "output_type": "stream",
     "text": [
      "True\n",
      "False\n"
     ]
    }
   ],
   "source": [
    "a = [3,4,5]\n",
    "b = a\n",
    "c = [3,4,5]\n",
    "\n",
    "print(a is b)\n",
    "print(a is c)"
   ]
  },
  {
   "cell_type": "markdown",
   "metadata": {},
   "source": [
    "# 6 . Understanding == (Equality Comparison)"
   ]
  },
  {
   "cell_type": "markdown",
   "metadata": {},
   "source": [
    "The **==** Compare the values of two objects."
   ]
  },
  {
   "cell_type": "code",
   "execution_count": 13,
   "metadata": {},
   "outputs": [
    {
     "name": "stdout",
     "output_type": "stream",
     "text": [
      "True\n",
      "False\n",
      "True\n"
     ]
    }
   ],
   "source": [
    "a = [2,3,4,5]\n",
    "b = [2,3,4,5]\n",
    "c = a\n",
    "\n",
    "print(a == b)\n",
    "print(a is b)\n",
    "print(c is a)"
   ]
  },
  {
   "cell_type": "markdown",
   "metadata": {},
   "source": [
    "# 7. key difference between is and ==\n",
    "\n",
    "<!-- || is | == | -->\n",
    "|Operator| purpose |\n",
    "|--------|---------|\n",
    "|is | Check if two object occypy the same memory location.|\n",
    "|== | Check if two object have the same value. "
   ]
  },
  {
   "cell_type": "markdown",
   "metadata": {},
   "source": [
    "# 8. Real World Sceniorio Where IS and == are used"
   ]
  },
  {
   "cell_type": "code",
   "execution_count": 15,
   "metadata": {},
   "outputs": [
    {
     "name": "stdout",
     "output_type": "stream",
     "text": [
      "False\n",
      "True\n",
      "True\n"
     ]
    }
   ],
   "source": [
    "a = 1000\n",
    "b = 1000\n",
    "print(a is b)\n",
    "\n",
    "a = 255\n",
    "b = 255\n",
    "print(a is b)\n",
    "\n",
    "a = 10\n",
    "b = 10\n",
    "print(a is b)"
   ]
  },
  {
   "cell_type": "code",
   "execution_count": null,
   "metadata": {},
   "outputs": [],
   "source": []
  }
 ],
 "metadata": {
  "kernelspec": {
   "display_name": "awfera",
   "language": "python",
   "name": "python3"
  },
  "language_info": {
   "codemirror_mode": {
    "name": "ipython",
    "version": 3
   },
   "file_extension": ".py",
   "mimetype": "text/x-python",
   "name": "python",
   "nbconvert_exporter": "python",
   "pygments_lexer": "ipython3",
   "version": "3.10.16"
  }
 },
 "nbformat": 4,
 "nbformat_minor": 2
}
